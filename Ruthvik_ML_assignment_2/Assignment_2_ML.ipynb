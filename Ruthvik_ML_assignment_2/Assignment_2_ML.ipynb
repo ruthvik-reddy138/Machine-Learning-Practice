{
 "cells": [
  {
   "cell_type": "code",
   "execution_count": 2,
   "metadata": {},
   "outputs": [
    {
     "data": {
      "text/plain": [
       "'C:\\\\Users\\\\Ruthvik'"
      ]
     },
     "execution_count": 2,
     "metadata": {},
     "output_type": "execute_result"
    }
   ],
   "source": [
    "pwd"
   ]
  },
  {
   "cell_type": "code",
   "execution_count": 5,
   "metadata": {},
   "outputs": [
    {
     "name": "stdout",
     "output_type": "stream",
     "text": [
      "For k=1:\n",
      "Accuracy: 0.9185\n",
      "Confusion Matrix:\n",
      "[[102   8]\n",
      " [  7  67]]\n",
      "--------------------------------------------------\n",
      "For k=3:\n",
      "Accuracy: 0.9457\n",
      "Confusion Matrix:\n",
      "[[106   4]\n",
      " [  6  68]]\n",
      "--------------------------------------------------\n",
      "For k=5:\n",
      "Accuracy: 0.9457\n",
      "Confusion Matrix:\n",
      "[[104   6]\n",
      " [  4  70]]\n",
      "--------------------------------------------------\n",
      "For k=7:\n",
      "Accuracy: 0.9565\n",
      "Confusion Matrix:\n",
      "[[106   4]\n",
      " [  4  70]]\n",
      "--------------------------------------------------\n",
      "For k=9:\n",
      "Accuracy: 0.9511\n",
      "Confusion Matrix:\n",
      "[[106   4]\n",
      " [  5  69]]\n",
      "--------------------------------------------------\n"
     ]
    }
   ],
   "source": [
    "import numpy as np\n",
    "from sklearn.model_selection import train_test_split\n",
    "from sklearn.metrics import accuracy_score, confusion_matrix\n",
    "\n",
    "# Step 1: Load and preprocess the dataset\n",
    "data = np.genfromtxt('wdbc.data.mb.csv', delimiter=',')\n",
    "X = data[:, :-1]  # Features\n",
    "y = data[:, -1]   # Class labels\n",
    "\n",
    "# Step 2: Split the dataset into training (70%) and testing (30%) sets\n",
    "X_train, X_test, y_train, y_test = train_test_split(X, y, test_size=0.3, random_state=42)\n",
    "\n",
    "# Step 3: Distance calculation module\n",
    "def euclidean_distance(x1, x2):\n",
    "    return np.sqrt(np.sum((x1 - x2)**2))\n",
    "\n",
    "# Step 4: Class assignment module using kNN\n",
    "def kNN_predict(X_train, y_train, X_test, k):\n",
    "    predictions = []\n",
    "    for test_sample in X_test:\n",
    "        distances = [euclidean_distance(test_sample, train_sample) for train_sample in X_train]\n",
    "        k_indices = np.argsort(distances)[:k]\n",
    "        k_nearest_labels = [y_train[i] for i in k_indices]\n",
    "        most_common = np.bincount([1 if label == 1 else 0 for label in k_nearest_labels]).argmax()\n",
    "        predictions.append(1 if most_common == 1 else -1)\n",
    "    return predictions\n",
    "\n",
    "# Step 5: Test kNN for different values of k\n",
    "k_values = [1, 3, 5, 7, 9]\n",
    "for k in k_values:\n",
    "    y_pred = kNN_predict(X_train, y_train, X_test, k)\n",
    "    accuracy = accuracy_score(y_test, y_pred)\n",
    "    cm = confusion_matrix(y_test, y_pred)\n",
    "    print(f'For k={k}:')\n",
    "    print(f'Accuracy: {accuracy:.4f}')\n",
    "    print('Confusion Matrix:')\n",
    "    print(cm)\n",
    "    print('-' * 50)\n"
   ]
  },
  {
   "cell_type": "code",
   "execution_count": null,
   "metadata": {},
   "outputs": [],
   "source": []
  }
 ],
 "metadata": {
  "kernelspec": {
   "display_name": "Python 3",
   "language": "python",
   "name": "python3"
  },
  "language_info": {
   "codemirror_mode": {
    "name": "ipython",
    "version": 3
   },
   "file_extension": ".py",
   "mimetype": "text/x-python",
   "name": "python",
   "nbconvert_exporter": "python",
   "pygments_lexer": "ipython3",
   "version": "3.7.4"
  }
 },
 "nbformat": 4,
 "nbformat_minor": 2
}
